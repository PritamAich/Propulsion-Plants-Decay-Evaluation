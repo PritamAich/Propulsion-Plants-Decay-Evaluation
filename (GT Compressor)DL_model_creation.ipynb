{
 "cells": [
  {
   "cell_type": "markdown",
   "metadata": {},
   "source": [
    "This notebook mainly focuses on the implementation of a Deep Learning model.\n",
    "\n",
    "An Artificial Neural network will be created to test on the given dataset."
   ]
  },
  {
   "cell_type": "markdown",
   "metadata": {
    "colab_type": "text",
    "id": "9hJLW-ef3WLT"
   },
   "source": [
    "# Importing Libraries"
   ]
  },
  {
   "cell_type": "code",
   "execution_count": 1,
   "metadata": {
    "colab": {},
    "colab_type": "code",
    "id": "Ff057Ac43WLU"
   },
   "outputs": [],
   "source": [
    "import pandas as pd\n",
    "import numpy as np\n",
    "import warnings\n",
    "\n",
    "from sklearn.metrics import mean_squared_error\n",
    "\n",
    "warnings.filterwarnings('ignore')"
   ]
  },
  {
   "cell_type": "code",
   "execution_count": 2,
   "metadata": {
    "colab": {
     "base_uri": "https://localhost:8080/",
     "height": 232
    },
    "colab_type": "code",
    "id": "VPabwRPw3WLb",
    "outputId": "39c14e4a-4af2-4ddc-924f-4b1f1dcf660c"
   },
   "outputs": [
    {
     "data": {
      "text/html": [
       "<div>\n",
       "<style scoped>\n",
       "    .dataframe tbody tr th:only-of-type {\n",
       "        vertical-align: middle;\n",
       "    }\n",
       "\n",
       "    .dataframe tbody tr th {\n",
       "        vertical-align: top;\n",
       "    }\n",
       "\n",
       "    .dataframe thead th {\n",
       "        text-align: right;\n",
       "    }\n",
       "</style>\n",
       "<table border=\"1\" class=\"dataframe\">\n",
       "  <thead>\n",
       "    <tr style=\"text-align: right;\">\n",
       "      <th></th>\n",
       "      <th>Lever position (lp) [ ]</th>\n",
       "      <th>Ship speed (v) [knots]</th>\n",
       "      <th>Gas Turbine shaft torque (GTT) [kN m]</th>\n",
       "      <th>Gas Turbine rate of revolutions (GTn) [rpm]</th>\n",
       "      <th>Gas Generator rate of revolutions (GGn) [rpm]</th>\n",
       "      <th>Starboard Propeller Torque (Ts) [kN]</th>\n",
       "      <th>Port Propeller Torque (Tp) [kN]</th>\n",
       "      <th>HP Turbine exit temperature (T48) [C]</th>\n",
       "      <th>GT Compressor inlet air temperature (T1) [C]</th>\n",
       "      <th>GT Compressor outlet air temperature (T2) [C]</th>\n",
       "      <th>HP Turbine exit pressure (P48) [bar]</th>\n",
       "      <th>GT Compressor inlet air pressure (P1) [bar]</th>\n",
       "      <th>GT Compressor outlet air pressure (P2) [bar]</th>\n",
       "      <th>Gas Turbine exhaust gas pressure (Pexh) [bar]</th>\n",
       "      <th>Turbine Injecton Control (TIC) [%]</th>\n",
       "      <th>Fuel flow (mf) [kg/s]</th>\n",
       "      <th>GT Compressor decay state coefficient.</th>\n",
       "      <th>GT Turbine decay state coefficient.</th>\n",
       "    </tr>\n",
       "  </thead>\n",
       "  <tbody>\n",
       "    <tr>\n",
       "      <th>0</th>\n",
       "      <td>9.300</td>\n",
       "      <td>27.0</td>\n",
       "      <td>72762.205</td>\n",
       "      <td>3560.393</td>\n",
       "      <td>9753.812</td>\n",
       "      <td>644.806</td>\n",
       "      <td>644.806</td>\n",
       "      <td>1086.583</td>\n",
       "      <td>288.0</td>\n",
       "      <td>780.304</td>\n",
       "      <td>4.523</td>\n",
       "      <td>0.998</td>\n",
       "      <td>22.879</td>\n",
       "      <td>1.050</td>\n",
       "      <td>90.435</td>\n",
       "      <td>1.790</td>\n",
       "      <td>0.973</td>\n",
       "      <td>0.978</td>\n",
       "    </tr>\n",
       "    <tr>\n",
       "      <th>1</th>\n",
       "      <td>6.175</td>\n",
       "      <td>18.0</td>\n",
       "      <td>29760.552</td>\n",
       "      <td>2306.825</td>\n",
       "      <td>8780.012</td>\n",
       "      <td>246.011</td>\n",
       "      <td>246.011</td>\n",
       "      <td>776.921</td>\n",
       "      <td>288.0</td>\n",
       "      <td>665.511</td>\n",
       "      <td>2.518</td>\n",
       "      <td>0.998</td>\n",
       "      <td>13.438</td>\n",
       "      <td>1.030</td>\n",
       "      <td>34.596</td>\n",
       "      <td>0.685</td>\n",
       "      <td>0.995</td>\n",
       "      <td>0.975</td>\n",
       "    </tr>\n",
       "    <tr>\n",
       "      <th>2</th>\n",
       "      <td>3.144</td>\n",
       "      <td>9.0</td>\n",
       "      <td>8375.774</td>\n",
       "      <td>1386.739</td>\n",
       "      <td>7051.621</td>\n",
       "      <td>60.318</td>\n",
       "      <td>60.318</td>\n",
       "      <td>589.764</td>\n",
       "      <td>288.0</td>\n",
       "      <td>580.587</td>\n",
       "      <td>1.392</td>\n",
       "      <td>0.998</td>\n",
       "      <td>7.566</td>\n",
       "      <td>1.020</td>\n",
       "      <td>12.477</td>\n",
       "      <td>0.247</td>\n",
       "      <td>0.980</td>\n",
       "      <td>0.978</td>\n",
       "    </tr>\n",
       "    <tr>\n",
       "      <th>3</th>\n",
       "      <td>3.144</td>\n",
       "      <td>9.0</td>\n",
       "      <td>8377.589</td>\n",
       "      <td>1386.748</td>\n",
       "      <td>7098.469</td>\n",
       "      <td>60.339</td>\n",
       "      <td>60.339</td>\n",
       "      <td>570.651</td>\n",
       "      <td>288.0</td>\n",
       "      <td>576.565</td>\n",
       "      <td>1.390</td>\n",
       "      <td>0.998</td>\n",
       "      <td>7.409</td>\n",
       "      <td>1.021</td>\n",
       "      <td>11.678</td>\n",
       "      <td>0.231</td>\n",
       "      <td>0.984</td>\n",
       "      <td>1.000</td>\n",
       "    </tr>\n",
       "    <tr>\n",
       "      <th>4</th>\n",
       "      <td>6.175</td>\n",
       "      <td>18.0</td>\n",
       "      <td>29761.091</td>\n",
       "      <td>2306.825</td>\n",
       "      <td>8782.024</td>\n",
       "      <td>246.021</td>\n",
       "      <td>246.021</td>\n",
       "      <td>769.855</td>\n",
       "      <td>288.0</td>\n",
       "      <td>663.682</td>\n",
       "      <td>2.518</td>\n",
       "      <td>0.998</td>\n",
       "      <td>13.374</td>\n",
       "      <td>1.031</td>\n",
       "      <td>34.154</td>\n",
       "      <td>0.676</td>\n",
       "      <td>0.998</td>\n",
       "      <td>0.980</td>\n",
       "    </tr>\n",
       "  </tbody>\n",
       "</table>\n",
       "</div>"
      ],
      "text/plain": [
       "   Lever position (lp) [ ]  Ship speed (v) [knots]  \\\n",
       "0                    9.300                    27.0   \n",
       "1                    6.175                    18.0   \n",
       "2                    3.144                     9.0   \n",
       "3                    3.144                     9.0   \n",
       "4                    6.175                    18.0   \n",
       "\n",
       "   Gas Turbine shaft torque (GTT) [kN m]  \\\n",
       "0                              72762.205   \n",
       "1                              29760.552   \n",
       "2                               8375.774   \n",
       "3                               8377.589   \n",
       "4                              29761.091   \n",
       "\n",
       "   Gas Turbine rate of revolutions (GTn) [rpm]  \\\n",
       "0                                     3560.393   \n",
       "1                                     2306.825   \n",
       "2                                     1386.739   \n",
       "3                                     1386.748   \n",
       "4                                     2306.825   \n",
       "\n",
       "   Gas Generator rate of revolutions (GGn) [rpm]  \\\n",
       "0                                       9753.812   \n",
       "1                                       8780.012   \n",
       "2                                       7051.621   \n",
       "3                                       7098.469   \n",
       "4                                       8782.024   \n",
       "\n",
       "   Starboard Propeller Torque (Ts) [kN]  Port Propeller Torque (Tp) [kN]  \\\n",
       "0                               644.806                          644.806   \n",
       "1                               246.011                          246.011   \n",
       "2                                60.318                           60.318   \n",
       "3                                60.339                           60.339   \n",
       "4                               246.021                          246.021   \n",
       "\n",
       "   HP Turbine exit temperature (T48) [C]  \\\n",
       "0                               1086.583   \n",
       "1                                776.921   \n",
       "2                                589.764   \n",
       "3                                570.651   \n",
       "4                                769.855   \n",
       "\n",
       "   GT Compressor inlet air temperature (T1) [C]  \\\n",
       "0                                         288.0   \n",
       "1                                         288.0   \n",
       "2                                         288.0   \n",
       "3                                         288.0   \n",
       "4                                         288.0   \n",
       "\n",
       "   GT Compressor outlet air temperature (T2) [C]  \\\n",
       "0                                        780.304   \n",
       "1                                        665.511   \n",
       "2                                        580.587   \n",
       "3                                        576.565   \n",
       "4                                        663.682   \n",
       "\n",
       "   HP Turbine exit pressure (P48) [bar]  \\\n",
       "0                                 4.523   \n",
       "1                                 2.518   \n",
       "2                                 1.392   \n",
       "3                                 1.390   \n",
       "4                                 2.518   \n",
       "\n",
       "   GT Compressor inlet air pressure (P1) [bar]  \\\n",
       "0                                        0.998   \n",
       "1                                        0.998   \n",
       "2                                        0.998   \n",
       "3                                        0.998   \n",
       "4                                        0.998   \n",
       "\n",
       "   GT Compressor outlet air pressure (P2) [bar]  \\\n",
       "0                                        22.879   \n",
       "1                                        13.438   \n",
       "2                                         7.566   \n",
       "3                                         7.409   \n",
       "4                                        13.374   \n",
       "\n",
       "   Gas Turbine exhaust gas pressure (Pexh) [bar]  \\\n",
       "0                                          1.050   \n",
       "1                                          1.030   \n",
       "2                                          1.020   \n",
       "3                                          1.021   \n",
       "4                                          1.031   \n",
       "\n",
       "   Turbine Injecton Control (TIC) [%]  Fuel flow (mf) [kg/s]  \\\n",
       "0                              90.435                  1.790   \n",
       "1                              34.596                  0.685   \n",
       "2                              12.477                  0.247   \n",
       "3                              11.678                  0.231   \n",
       "4                              34.154                  0.676   \n",
       "\n",
       "   GT Compressor decay state coefficient.  GT Turbine decay state coefficient.  \n",
       "0                                   0.973                                0.978  \n",
       "1                                   0.995                                0.975  \n",
       "2                                   0.980                                0.978  \n",
       "3                                   0.984                                1.000  \n",
       "4                                   0.998                                0.980  "
      ]
     },
     "execution_count": 2,
     "metadata": {},
     "output_type": "execute_result"
    }
   ],
   "source": [
    "raw_data = pd.read_csv('propulsion.csv')\n",
    "\n",
    "data = raw_data.drop('Unnamed: 0', axis = 1)\n",
    "\n",
    "data.head()"
   ]
  },
  {
   "cell_type": "markdown",
   "metadata": {},
   "source": [
    "#####   "
   ]
  },
  {
   "cell_type": "markdown",
   "metadata": {},
   "source": [
    "## Splitting training, validation and test datasets"
   ]
  },
  {
   "cell_type": "code",
   "execution_count": 3,
   "metadata": {},
   "outputs": [],
   "source": [
    "x = data.drop([\"GT Compressor decay state coefficient.\", \"GT Turbine decay state coefficient.\"], axis = 1)\n",
    "y = data['GT Compressor decay state coefficient.']"
   ]
  },
  {
   "cell_type": "code",
   "execution_count": 4,
   "metadata": {},
   "outputs": [
    {
     "name": "stdout",
     "output_type": "stream",
     "text": [
      "Training set shape:  (8100, 16) (8100,)\n",
      "Validation set shape:  (900, 16) (900,)\n",
      "Test set shape:  (1000, 16) (1000,)\n"
     ]
    }
   ],
   "source": [
    "from sklearn.model_selection import train_test_split\n",
    "\n",
    "#Training and test sets\n",
    "x_train, x_test, y_train, y_test = train_test_split(x, y, test_size = 0.1, random_state = 42)\n",
    "\n",
    "#Training and validation sets\n",
    "x_train, x_val, y_train, y_val = train_test_split(x_train, y_train, test_size = 0.1, random_state = 42)\n",
    "\n",
    "print(\"Training set shape: \", x_train.shape, y_train.shape)\n",
    "print(\"Validation set shape: \", x_val.shape, y_val.shape)\n",
    "print(\"Test set shape: \", x_test.shape, y_test.shape)"
   ]
  },
  {
   "cell_type": "markdown",
   "metadata": {},
   "source": [
    "## Scaling the data"
   ]
  },
  {
   "cell_type": "code",
   "execution_count": 5,
   "metadata": {},
   "outputs": [],
   "source": [
    "from sklearn.preprocessing import StandardScaler \n",
    "scaler = StandardScaler() \n",
    "  \n",
    "x_train_scaled = scaler.fit_transform(x_train)\n",
    "x_val_scaled = scaler.transform(x_val)\n",
    "x_test_scaled = scaler.transform(x_test) "
   ]
  },
  {
   "cell_type": "markdown",
   "metadata": {},
   "source": [
    "###   "
   ]
  },
  {
   "cell_type": "markdown",
   "metadata": {
    "colab_type": "text",
    "id": "5ukW_tmf3WPG"
   },
   "source": [
    "## Neural Network model Creation "
   ]
  },
  {
   "cell_type": "code",
   "execution_count": 6,
   "metadata": {
    "colab": {},
    "colab_type": "code",
    "id": "zUynfe4j3WPG"
   },
   "outputs": [],
   "source": [
    "import tensorflow as tf\n",
    "from tensorflow.keras.models import Sequential\n",
    "from tensorflow.keras.layers import Dense,Dropout\n",
    "from tensorflow.keras.optimizers import Adam"
   ]
  },
  {
   "cell_type": "code",
   "execution_count": 7,
   "metadata": {},
   "outputs": [
    {
     "name": "stdout",
     "output_type": "stream",
     "text": [
      "Model: \"sequential\"\n",
      "_________________________________________________________________\n",
      "Layer (type)                 Output Shape              Param #   \n",
      "=================================================================\n",
      "dense (Dense)                (None, 128)               2176      \n",
      "_________________________________________________________________\n",
      "dense_1 (Dense)              (None, 256)               33024     \n",
      "_________________________________________________________________\n",
      "dropout (Dropout)            (None, 256)               0         \n",
      "_________________________________________________________________\n",
      "dense_2 (Dense)              (None, 512)               131584    \n",
      "_________________________________________________________________\n",
      "dropout_1 (Dropout)          (None, 512)               0         \n",
      "_________________________________________________________________\n",
      "dense_3 (Dense)              (None, 256)               131328    \n",
      "_________________________________________________________________\n",
      "dropout_2 (Dropout)          (None, 256)               0         \n",
      "_________________________________________________________________\n",
      "dense_4 (Dense)              (None, 128)               32896     \n",
      "_________________________________________________________________\n",
      "dropout_3 (Dropout)          (None, 128)               0         \n",
      "_________________________________________________________________\n",
      "dense_5 (Dense)              (None, 1)                 129       \n",
      "=================================================================\n",
      "Total params: 331,137\n",
      "Trainable params: 331,137\n",
      "Non-trainable params: 0\n",
      "_________________________________________________________________\n"
     ]
    }
   ],
   "source": [
    "model = Sequential() #First creating a sequential object\n",
    "\n",
    "layer_size = x.shape[1] #Input layer size\n",
    "\n",
    "#Input Layer\n",
    "model.add(Dense(128, activation='relu', input_dim = layer_size, kernel_initializer= 'normal'))\n",
    "\n",
    "#Hidden Layers\n",
    "\n",
    "#1st hidden layer\n",
    "model.add(Dense(256, kernel_initializer ='normal', activation='relu'))\n",
    "model.add(Dropout(0.5)) \n",
    "\n",
    "#2nd hidden layer\n",
    "model.add(Dense(512, kernel_initializer = 'normal', activation='relu'))\n",
    "model.add(Dropout(0.5))\n",
    "\n",
    "#3rd hidden layer\n",
    "model.add(Dense(256, kernel_initializer = 'normal', activation='relu'))\n",
    "model.add(Dropout(0.5))\n",
    "\n",
    "#4th hidden layer\n",
    "model.add(Dense(128, kernel_initializer = 'normal', activation='relu'))\n",
    "model.add(Dropout(0.5))\n",
    "\n",
    "#Output layer\n",
    "model.add(Dense(1, kernel_initializer = 'normal', activation='linear'))\n",
    "\n",
    "lr = 0.03\n",
    "#Optimizer parameter tuning\n",
    "adam = Adam(learning_rate = lr)\n",
    "\n",
    "#Model compilation\n",
    "model.compile(loss='mean_squared_error', optimizer = adam, metrics=['mean_squared_error'])\n",
    "\n",
    "model.summary()"
   ]
  },
  {
   "cell_type": "markdown",
   "metadata": {},
   "source": [
    "## Training the Neural network model"
   ]
  },
  {
   "cell_type": "code",
   "execution_count": 8,
   "metadata": {
    "scrolled": false
   },
   "outputs": [
    {
     "name": "stdout",
     "output_type": "stream",
     "text": [
      "Train on 8100 samples, validate on 900 samples\n",
      "Epoch 1/100\n",
      "8100/8100 - 2s - loss: 21.7692 - mean_squared_error: 21.7692 - val_loss: 0.0771 - val_mean_squared_error: 0.0771\n",
      "Epoch 2/100\n",
      "8100/8100 - 1s - loss: 0.0162 - mean_squared_error: 0.0162 - val_loss: 4.7618e-04 - val_mean_squared_error: 4.7618e-04\n",
      "Epoch 3/100\n",
      "8100/8100 - 1s - loss: 2.5309e-04 - mean_squared_error: 2.5309e-04 - val_loss: 2.2161e-04 - val_mean_squared_error: 2.2161e-04\n",
      "Epoch 4/100\n",
      "8100/8100 - 1s - loss: 2.1639e-04 - mean_squared_error: 2.1639e-04 - val_loss: 2.2165e-04 - val_mean_squared_error: 2.2165e-04\n",
      "Epoch 5/100\n",
      "8100/8100 - 1s - loss: 2.1636e-04 - mean_squared_error: 2.1636e-04 - val_loss: 2.2166e-04 - val_mean_squared_error: 2.2166e-04\n",
      "Epoch 6/100\n",
      "8100/8100 - 1s - loss: 2.1638e-04 - mean_squared_error: 2.1638e-04 - val_loss: 2.2178e-04 - val_mean_squared_error: 2.2178e-04\n"
     ]
    },
    {
     "data": {
      "text/plain": [
       "<tensorflow.python.keras.callbacks.History at 0x27260fc6d88>"
      ]
     },
     "execution_count": 8,
     "metadata": {},
     "output_type": "execute_result"
    }
   ],
   "source": [
    "#Early stopping prevents overfitting\n",
    "early_stopping = tf.keras.callbacks.EarlyStopping(patience = 3, restore_best_weights= True)\n",
    "\n",
    "#Training the model\n",
    "model.fit(\n",
    "    \n",
    "    x_train_scaled, \n",
    "    y_train,\n",
    "    epochs = 100, #Number of iterations\n",
    "    batch_size = 32,\n",
    "    callbacks = [early_stopping],\n",
    "    validation_data = (x_val_scaled, y_val),\n",
    "    verbose = 2,\n",
    "\n",
    ")"
   ]
  },
  {
   "cell_type": "markdown",
   "metadata": {},
   "source": [
    "## Testing on test set"
   ]
  },
  {
   "cell_type": "code",
   "execution_count": 9,
   "metadata": {},
   "outputs": [
    {
     "name": "stdout",
     "output_type": "stream",
     "text": [
      "RMSE score:  0.014810978470254454\n"
     ]
    }
   ],
   "source": [
    "y_test_pred = model.predict(x_test_scaled) #Testing on test set\n",
    "\n",
    "rmse = np.sqrt(mean_squared_error(y_test, y_test_pred)) #Evaluating model rmse score by comparing actual and predicted results\n",
    "\n",
    "print(\"RMSE score: \", rmse)"
   ]
  },
  {
   "cell_type": "markdown",
   "metadata": {},
   "source": [
    "**The performance of this Neural network model could'nt quite catch up with the CatBoost model.**\n",
    "\n",
    "The RMSE score is lower than that of CatBoost model.\n",
    "\n",
    "**Hence we can consider that CatBoost still performes exceptionally well.**"
   ]
  }
 ],
 "metadata": {
  "kernelspec": {
   "display_name": "Python [conda env:py3-TF]",
   "language": "python",
   "name": "conda-env-py3-TF-py"
  },
  "language_info": {
   "codemirror_mode": {
    "name": "ipython",
    "version": 3
   },
   "file_extension": ".py",
   "mimetype": "text/x-python",
   "name": "python",
   "nbconvert_exporter": "python",
   "pygments_lexer": "ipython3",
   "version": "3.7.9"
  }
 },
 "nbformat": 4,
 "nbformat_minor": 4
}
